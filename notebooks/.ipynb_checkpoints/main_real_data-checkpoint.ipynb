{
 "cells": [
  {
   "cell_type": "markdown",
   "id": "fd4db88c-7aa6-4f55-8afa-d1d7193fa927",
   "metadata": {},
   "source": [
    "# Description\n"
   ]
  },
  {
   "cell_type": "code",
   "execution_count": null,
   "id": "65d34395-ce02-4f9f-95da-d43441912c07",
   "metadata": {},
   "outputs": [],
   "source": []
  },
  {
   "cell_type": "markdown",
   "id": "2d918de9-7681-41c1-a531-05d917995226",
   "metadata": {},
   "source": [
    "# Packages"
   ]
  },
  {
   "cell_type": "code",
   "execution_count": 1,
   "id": "8a5fd525-f655-4ed5-81c0-e42f00544119",
   "metadata": {},
   "outputs": [],
   "source": [
    "import numpy as np\n",
    "from xarray import open_dataset\n",
    "import matplotlib.pyplot as plt"
   ]
  },
  {
   "cell_type": "code",
   "execution_count": null,
   "id": "159332c4-c65b-4239-95be-0295734975fc",
   "metadata": {},
   "outputs": [],
   "source": []
  },
  {
   "cell_type": "code",
   "execution_count": 2,
   "id": "9f6a0d8a-ec70-41b9-abf0-1b43b42bc89d",
   "metadata": {},
   "outputs": [],
   "source": [
    "def plot_interval(ax, xposition, interval, color, lw, w_bar=0.4, label=None, linestyle=None, markersize=10):\n",
    "    center = np.mean(np.array(interval).flatten())\n",
    "    error  = np.diff(np.array(interval).flatten())[0]/2\n",
    "    interval = ax.errorbar(xposition, center, yerr=np.abs(error), color=color, capsize=20*w_bar, fmt=\"_\",\n",
    "                lw=lw, capthick=lw, markersize=markersize, label=label, linestyle=linestyle, clip_on=True, zorder=1000)\n",
    "    return interval"
   ]
  },
  {
   "cell_type": "code",
   "execution_count": 3,
   "id": "5082a379-aa9f-41ed-8527-db87ab44f679",
   "metadata": {},
   "outputs": [],
   "source": [
    "from sklearn.linear_model import LinearRegression\n",
    "def compute_trend_per_sample(data_perSample_perTime, times):\n",
    "    nb_samples, nb_times = data_perSample_perTime.shape\n",
    "    trend_per_sample     = np.nan*np.zeros(nb_samples)\n",
    "    for id_sample in range(nb_samples):\n",
    "        timeseries   = data_perSample_perTime[id_sample]\n",
    "        notNan_times = np.logical_not(np.isnan(timeseries))\n",
    "        trend        = LinearRegression().fit(times[notNan_times].reshape(-1, 1), timeseries[notNan_times]).coef_[0]\n",
    "        trend_per_sample[id_sample] = trend\n",
    "\n",
    "    return trend_per_sample\n",
    "\n",
    "def compute_X_from_period(period, times, data_perSample_perTime, trend=False):\n",
    "    times_to_keep = np.logical_and(period[0]<=times, times<=period[1])\n",
    "    if not trend:\n",
    "        X = np.nanmean(data_perSample_perTime[:, times_to_keep], axis=1)\n",
    "    else:\n",
    "        X = compute_trend_per_sample(data_perSample_perTime[:, times_to_keep], times[times_to_keep])\n",
    "    return X\n",
    "\n",
    "\n",
    "def compute_correlation_from_period(period, CMIP6_times, CMIP6_global_tas, Y, period_Y, trend=False):\n",
    "    X = compute_X_from_period(period, CMIP6_times, CMIP6_global_tas, trend=trend)\n",
    "    corr = np.corrcoef(X,Y)[0,1]\n",
    "    if trend:\n",
    "        print(\"the correlation between the global tas averaged in {}-{} and trend in {}-{} is : {:.2f}\".format(\n",
    "            period_Y[0], period_Y[1], period[0], period[1], corr))\n",
    "    else:\n",
    "        print(\"the correlation between the global tas averaged in {}-{} and averaged in {}-{} is : {:.2f}\".format(\n",
    "            period_Y[0], period_Y[1], period[0], period[1], corr))"
   ]
  },
  {
   "cell_type": "code",
   "execution_count": 79,
   "id": "d108dd30-e58c-4672-9976-499d82e585cd",
   "metadata": {},
   "outputs": [],
   "source": [
    "from scipy.stats import t\n",
    "\n",
    "def compute_confidence_intervals(X, X_obs, Y, confidence_level, period_Y, reference_period,\n",
    "                                 display=True, return_for_different_x=False,\n",
    "                                 neglect_M=False, impose_SNR=0, precomputed_Cov_N=0):\n",
    "    M, K     = X.shape\n",
    "    if neglect_M:\n",
    "        M = 99999999\n",
    "    mu_Y     = np.mean(Y)\n",
    "    std_Y    = np.std(Y, ddof=1)\n",
    "    mu_X     = np.mean(X, axis=0)\n",
    "    mu_X_obs = np.mean(X_obs, axis=0)\n",
    "    Cov_XY   = np.array([np.cov(Y, X[:, id_comp], rowvar=False, ddof=1)[0,1] for id_comp in range(K)])\n",
    "    Cov_X    = np.cov(X, rowvar=False, ddof=1).reshape(K,K)\n",
    "    \n",
    "\n",
    "    if impose_SNR: # for special test, where you want a specific signal to nosie ratio (SNR)\n",
    "        Cov_N = Cov_X / impose_SNR**2\n",
    "    elif precomputed_Cov_N:\n",
    "        Cov_N = precomputed_Cov_N\n",
    "    else:\n",
    "        Cov_N = np.cov(X_obs, rowvar=False, ddof=1)\n",
    "        \n",
    "    Cov_N = Cov_N.reshape(K,K)\n",
    "    \n",
    "    b1 = Cov_XY @ np.linalg.inv(Cov_X+Cov_N)\n",
    "    b0 = mu_Y - b1 @ mu_X\n",
    "    \n",
    "    var_eps     = np.var(Y - b0 - X @ b1, ddof=1)\n",
    "    sigma_eps_N = np.sqrt(var_eps + b1 @ Cov_N @ b1)\n",
    "    root_term   = np.sqrt(1 + 1/M + (mu_X_obs-mu_X) @ np.linalg.inv(Cov_X+Cov_N) @ (mu_X_obs-mu_X)/M)\n",
    "\n",
    "    constrained_CI   = b0 + np.matmul(b1, mu_X_obs) + np.array(t.interval(confidence_level, M-1-K, loc=0, scale=1))*sigma_eps_N*root_term\n",
    "    unconstrained_CI = mu_Y + np.array(t.interval(confidence_level, M-1, loc=0, scale=1))*std_Y*np.sqrt(1+1/M)\n",
    "\n",
    "    if display:\n",
    "        print(\"{}% confidence:\".format(int(100*confidence_level)))\n",
    "        print(\"Global temperature at surface in {}-{} relative to {}-{}:\".format(period_Y[0], period_Y[1], reference_period[0], reference_period[1]))\n",
    "        print(\"Constrained : [{:.2f} +- {:.2f}]\".format(np.mean(constrained_CI), np.diff(constrained_CI)[0]/2))\n",
    "        print(\"Unconstrained : [{:.2f} +- {:.2f}]\".format(np.mean(unconstrained_CI), np.diff(unconstrained_CI)[0]/2))\n",
    "\n",
    "    if return_for_different_x:\n",
    "        array_x = np.linspace(np.min((X.min(), mu_X_obs.min())), np.max((mu_X_obs.max(), X.max())), 100)\n",
    "        constrained_CI_per_x = np.zeros((len(array_x), 2))\n",
    "        for id_x in range(len(array_x)):\n",
    "            mu_X_obs = array_x[id_x].reshape(-1,1)\n",
    "            root_term  = np.sqrt(1 + 1/M + (mu_X_obs-mu_X) @ np.linalg.inv(Cov_X+Cov_N) @ (mu_X_obs-mu_X)/M)\n",
    "            constrained_CI_per_x[id_x, :] = b0 + np.matmul(b1, mu_X_obs) + np.array(t.interval(confidence_level, M-1-K, loc=0, scale=1))*sigma_eps_N*root_term\n",
    "        \n",
    "        return constrained_CI, unconstrained_CI, array_x, constrained_CI_per_x\n",
    "        \n",
    "    return constrained_CI, unconstrained_CI\n",
    "\n",
    "\n",
    "    "
   ]
  },
  {
   "cell_type": "code",
   "execution_count": 5,
   "id": "34728ccd-1f35-4bea-8d9e-28764e19bb73",
   "metadata": {},
   "outputs": [],
   "source": [
    "\n",
    "def compute_Cox_confidence_intervals(X, X_obs, Y, confidence_level, var_N):\n",
    "    M     = len(X)\n",
    "    mu_Y  = np.mean(Y)\n",
    "    mu_X  = np.mean(X)\n",
    "    var_X = np.var(X, ddof=1)\n",
    "    \n",
    "    lr = LinearRegression().fit(X, Y)\n",
    "    coefs = lr.coef_\n",
    "    estimated_value = lr.predict(X_obs.reshape(1, -1))\n",
    "    \n",
    "    z         = t.interval(confidence_level, np.inf, loc=0, scale=1)[1]\n",
    "    var_eps   = np.var(Y - lr.predict(X), ddof=1)\n",
    "    sample_uncertainty = 1 + 1/M + (X_obs-mu_X)**2 / (M * var_X)\n",
    "    proj_var_noise = coefs**2 * var_N\n",
    "\n",
    "\n",
    "    total_uncertainty = z*np.sqrt(var_eps * sample_uncertainty + proj_var_noise)\n",
    "\n",
    "    constrained_CI   = (estimated_value + np.array([-total_uncertainty, total_uncertainty])).flatten()\n",
    "    #unconstrained_CI = mu_Y + np.array([-total_uncertainty, total_uncertainty])*std_Y*np.sqrt(1+1/M)\n",
    "    return constrained_CI\n"
   ]
  },
  {
   "cell_type": "code",
   "execution_count": null,
   "id": "66c201ac-3529-41de-ba01-1fae41cdc13f",
   "metadata": {},
   "outputs": [],
   "source": []
  },
  {
   "cell_type": "code",
   "execution_count": null,
   "id": "037f3bb6-bf2b-4358-a3a5-5a5a8df7c10a",
   "metadata": {},
   "outputs": [],
   "source": []
  },
  {
   "cell_type": "markdown",
   "id": "f3f5abbd-d0f2-4be7-b26b-ba62a92480c6",
   "metadata": {},
   "source": [
    "# Choice of the reference period (anomalies)"
   ]
  },
  {
   "cell_type": "code",
   "execution_count": 6,
   "id": "e4d43762-fcb8-4113-8f3d-81e5fd68c54f",
   "metadata": {},
   "outputs": [],
   "source": [
    "reference_period = [1850, 1900]"
   ]
  },
  {
   "cell_type": "code",
   "execution_count": null,
   "id": "2a337d81-e031-4481-82ba-4602eea00adf",
   "metadata": {},
   "outputs": [],
   "source": []
  },
  {
   "cell_type": "markdown",
   "id": "7e6b5797-4d80-4952-9657-f4b9ec00ba21",
   "metadata": {},
   "source": [
    "# Data importation\n",
    "## Values from simulations (CMIP6 climate models)\n",
    "Precomputed global temperature at the surface of the globe, for each year between 1850 and 2100, and for each available climate model."
   ]
  },
  {
   "cell_type": "code",
   "execution_count": 7,
   "id": "3958a647-f8a1-4521-955a-c67d8167a0ab",
   "metadata": {},
   "outputs": [
    {
     "name": "stdout",
     "output_type": "stream",
     "text": [
      "there is 32 climate models\n"
     ]
    }
   ],
   "source": [
    "# Import the data for each model, each year and each spatial position\n",
    "CMIP6_name_models = np.load(\"../data/ssp245_timeserie_global_tas/name_models.npy\")\n",
    "CMIP6_times       = np.load(\"../data/ssp245_timeserie_global_tas/times.npy\").astype(str).astype(int)\n",
    "CMIP6_global_tas  = np.load(\"../data/ssp245_timeserie_global_tas/data.npy\")- 273.15\n",
    "print(\"there is {} climate models\".format(len(CMIP6_name_models)))\n",
    "\n",
    "\n",
    "# Work with anomalies\n",
    "X_ref = compute_X_from_period(reference_period, CMIP6_times, CMIP6_global_tas)\n",
    "CMIP6_global_tas -= X_ref.reshape(-1,1)"
   ]
  },
  {
   "cell_type": "code",
   "execution_count": null,
   "id": "db38741d-bb88-4aae-91c1-67e973f2390e",
   "metadata": {},
   "outputs": [],
   "source": []
  },
  {
   "cell_type": "markdown",
   "id": "dbb0b2cd-6330-427d-9822-4bea36e61cdf",
   "metadata": {},
   "source": [
    "## Values from observations (HadCRUT5)\n",
    "HadCRUT5 analysis time series: ensemble members, global, annual, NetCDF\n",
    "(*https://www.metoffice.gov.uk/hadobs/hadcrut5/data/HadCRUT.5.0.2.0/download.html*)\n",
    "\n",
    "These data are relative to 1961-1990"
   ]
  },
  {
   "cell_type": "code",
   "execution_count": 8,
   "id": "75573e5d-47d7-4d36-8404-1307c982c4fd",
   "metadata": {},
   "outputs": [],
   "source": [
    "path = \"../data/HadCRUT.5.0.2.0.analysis.ensemble_series.global.annual.nc\"\n",
    "data_HadCrut5 = open_dataset(path)"
   ]
  },
  {
   "cell_type": "code",
   "execution_count": 9,
   "id": "90a0f5f6-e18e-4b32-8b8c-6eeae18e90e9",
   "metadata": {},
   "outputs": [
    {
     "name": "stdout",
     "output_type": "stream",
     "text": [
      "1850 2025\n"
     ]
    }
   ],
   "source": [
    "time_HadCrut5 = data_HadCrut5.time.data.astype(\"datetime64[Y]\").astype(str).astype(int)\n",
    "print(time_HadCrut5.min(), time_HadCrut5.max())"
   ]
  },
  {
   "cell_type": "code",
   "execution_count": null,
   "id": "a7ffa197-0822-4a49-83bd-f3b5ddfe20a8",
   "metadata": {},
   "outputs": [],
   "source": []
  },
  {
   "cell_type": "code",
   "execution_count": 10,
   "id": "677b444f-3297-4e24-a89b-1913aaf3ff26",
   "metadata": {},
   "outputs": [
    {
     "name": "stdout",
     "output_type": "stream",
     "text": [
      "there is 200 realisations\n"
     ]
    }
   ],
   "source": [
    "global_tas_obs_perRealisation_perTime = data_HadCrut5[\"tas\"].data\n",
    "print(\"there is {} realisations\".format(global_tas_obs_perRealisation_perTime.shape[0]))\n",
    "\n",
    "X_ref_obs = compute_X_from_period(reference_period, time_HadCrut5, global_tas_obs_perRealisation_perTime)\n",
    "global_tas_obs_perRealisation_perTime -= X_ref_obs.reshape(-1,1)"
   ]
  },
  {
   "cell_type": "code",
   "execution_count": null,
   "id": "a47d7b97-30e7-4ec1-b13c-2812addf7a94",
   "metadata": {},
   "outputs": [],
   "source": []
  },
  {
   "cell_type": "code",
   "execution_count": null,
   "id": "a5333c50-c4a6-4080-9617-922558bfd6df",
   "metadata": {},
   "outputs": [],
   "source": []
  },
  {
   "cell_type": "markdown",
   "id": "86b5b04b-3a03-47ba-a0e2-216d8d7fc2e7",
   "metadata": {},
   "source": [
    "# Definition of Y\n",
    "for some models, the 4 last years before 2100 are missing. This is why we take the period 2086-2095."
   ]
  },
  {
   "cell_type": "code",
   "execution_count": 11,
   "id": "d6d27061-1c93-422b-9f3c-85578aebcdcf",
   "metadata": {},
   "outputs": [
    {
     "data": {
      "text/plain": [
       "<matplotlib.image.AxesImage at 0x1768363a550>"
      ]
     },
     "execution_count": 11,
     "metadata": {},
     "output_type": "execute_result"
    },
    {
     "data": {
      "image/png": "[encoded data removed]",
      "text/plain": [
       "<Figure size 640x480 with 1 Axes>"
      ]
     },
     "metadata": {},
     "output_type": "display_data"
    }
   ],
   "source": [
    "plt.imshow(np.isnan(CMIP6_global_tas)[:, -20:])"
   ]
  },
  {
   "cell_type": "code",
   "execution_count": 12,
   "id": "2d8848e4-717a-4f06-9da1-77e35180d23a",
   "metadata": {},
   "outputs": [],
   "source": [
    "period_Y = [2091, 2100]\n",
    "\n",
    "Y = compute_X_from_period(period_Y, CMIP6_times, CMIP6_global_tas)"
   ]
  },
  {
   "cell_type": "code",
   "execution_count": null,
   "id": "33f761ec-f8ad-4879-8e3c-81ba3713a0ca",
   "metadata": {},
   "outputs": [],
   "source": []
  },
  {
   "cell_type": "markdown",
   "id": "80f2d801-dcf3-4021-a9aa-475f09e3af1f",
   "metadata": {},
   "source": [
    "# Inter-model correlation for different times period"
   ]
  },
  {
   "cell_type": "code",
   "execution_count": 13,
   "id": "06d9a60a-a442-4087-b98b-de0ed1a89cf5",
   "metadata": {},
   "outputs": [
    {
     "name": "stdout",
     "output_type": "stream",
     "text": [
      "the correlation between the global tas averaged in 2091-2100 and averaged in 1850-1975 is : 0.18\n",
      "the correlation between the global tas averaged in 2091-2100 and averaged in 1975-2014 is : 0.44\n",
      "the correlation between the global tas averaged in 2091-2100 and averaged in 2015-2024 is : 0.77\n"
     ]
    }
   ],
   "source": [
    "compute_correlation_from_period([1850, 1975], CMIP6_times, CMIP6_global_tas, Y, period_Y)\n",
    "compute_correlation_from_period([1975, 2014], CMIP6_times, CMIP6_global_tas, Y, period_Y)\n",
    "compute_correlation_from_period([2015, 2024], CMIP6_times, CMIP6_global_tas, Y, period_Y)"
   ]
  },
  {
   "cell_type": "code",
   "execution_count": 14,
   "id": "dda4496b-1602-4936-8b81-de7a8c80fcfb",
   "metadata": {},
   "outputs": [
    {
     "name": "stdout",
     "output_type": "stream",
     "text": [
      "the correlation between the global tas averaged in 2091-2100 and trend in 1850-1975 is : 0.19\n",
      "the correlation between the global tas averaged in 2091-2100 and trend in 1975-2014 is : 0.69\n",
      "the correlation between the global tas averaged in 2091-2100 and trend in 2015-2024 is : 0.30\n"
     ]
    }
   ],
   "source": [
    "compute_correlation_from_period([1850, 1975], CMIP6_times, CMIP6_global_tas, Y, period_Y, trend=True)\n",
    "compute_correlation_from_period([1975, 2014], CMIP6_times, CMIP6_global_tas, Y, period_Y, trend=True)\n",
    "compute_correlation_from_period([2015, 2024], CMIP6_times, CMIP6_global_tas, Y, period_Y, trend=True)"
   ]
  },
  {
   "cell_type": "code",
   "execution_count": null,
   "id": "61741fca-993b-4bc2-b6e4-0c250792849f",
   "metadata": {},
   "outputs": [],
   "source": []
  },
  {
   "cell_type": "markdown",
   "id": "b7d0d4aa-c048-4f04-b1d9-6c61eb9e0b59",
   "metadata": {},
   "source": [
    "# Three different choice of X:\n",
    "1. mean 2015-2024 (univariate)\n",
    "2. trend 1975-2014 (univariate)\n",
    "3. both (multivariate)"
   ]
  },
  {
   "cell_type": "code",
   "execution_count": 15,
   "id": "45c4cbff-430e-4fd7-974e-882586f057bd",
   "metadata": {},
   "outputs": [],
   "source": [
    "period_X1 = [2015, 2024]\n",
    "period_X2 = [1975, 2014]"
   ]
  },
  {
   "cell_type": "code",
   "execution_count": 16,
   "id": "335d7eef-f375-41dc-82ed-5670a41d6a1c",
   "metadata": {},
   "outputs": [],
   "source": [
    "# First choice\n",
    "X1        = compute_X_from_period(period_X1, CMIP6_times, CMIP6_global_tas).reshape(-1,1)\n",
    "X1_obs    = compute_X_from_period(period_X1, time_HadCrut5, global_tas_obs_perRealisation_perTime).reshape(-1,1)\n",
    "\n",
    "# Second choice\n",
    "X2        = compute_X_from_period(period_X2, CMIP6_times, CMIP6_global_tas, trend=True).reshape(-1,1)\n",
    "X2_obs    = compute_X_from_period(period_X2, time_HadCrut5, global_tas_obs_perRealisation_perTime, trend=True).reshape(-1,1)\n",
    "\n",
    "# Third choice\n",
    "X3        = np.concatenate((X1, X2), axis=1)\n",
    "X3_obs    = np.concatenate((X1_obs, X2_obs), axis=1)"
   ]
  },
  {
   "cell_type": "code",
   "execution_count": null,
   "id": "85884c6e-14ee-4e33-a208-7473bb7bebbb",
   "metadata": {},
   "outputs": [],
   "source": []
  },
  {
   "cell_type": "code",
   "execution_count": null,
   "id": "f6689331-8dc6-481a-ab21-1afd37900cf1",
   "metadata": {},
   "outputs": [],
   "source": []
  },
  {
   "cell_type": "markdown",
   "id": "b2ff5348-9069-44f2-87c5-2af9a32d6e68",
   "metadata": {},
   "source": [
    "### Test if the distributions are normals"
   ]
  },
  {
   "cell_type": "code",
   "execution_count": 230,
   "id": "2cd62ed5-c507-4174-ab7d-3f12539cfdd8",
   "metadata": {},
   "outputs": [
    {
     "data": {
      "image/png": "[encoded data removed]",
      "text/plain": [
       "<Figure size 1000x200 with 5 Axes>"
      ]
     },
     "metadata": {},
     "output_type": "display_data"
    }
   ],
   "source": [
    "import scipy.stats as stats\n",
    "def plot_histogram(ax, X, color=\"tab:blue\", alpha=0.5, label=\"multi-model\"):\n",
    "    if len(label):\n",
    "        label_hist = label+\" density histogram\"\n",
    "        label_line = label+\" fitted gaussian\"\n",
    "    else:\n",
    "        label_hist, label_line = \"\", \"\"\n",
    "    x = np.linspace(X.min(), X.max(), 2000)\n",
    "    pdf = stats.norm.pdf(x, np.mean(X), np.std(X))\n",
    "    hist = ax.hist(X, density=True, color=color, alpha=alpha, label=label_hist, bins=8)\n",
    "    line = ax.plot(x, pdf, color=color, label=label_line)\n",
    "    return hist, line\n",
    "    \n",
    "list_X = [Y, X1.flatten(), X2.flatten(), X1_obs.flatten(), X2_obs.flatten()]\n",
    "list_X_name = [r\"$Y$\", r\"$X_1$\", r\"$X_2$\", r\"$X_1^{obs}$\", r\"$X_2^{obs}$\"]\n",
    "list_units  = [\"°C\", \"°C\", \"°C/yr\", \"°C\", \"°C/yr\"]\n",
    "\n",
    "fig, axes = plt.subplots(1, len(list_to_display), figsize=(10,2))\n",
    "for i, ax in zip(np.arange(len(list_to_display)), axes.flatten()):\n",
    "    plot_histogram(ax, list_X[i])\n",
    "    ax.set_title(list_X_name[i])\n",
    "    if i==0:\n",
    "        ax.set_ylabel(\"density\")\n",
    "    #ax.set_yticks([])\n",
    "    ax.set_xlabel(list_units[i])\n",
    "\n"
   ]
  },
  {
   "cell_type": "code",
   "execution_count": 232,
   "id": "ff125dfd-8a25-4b43-903b-6a7244cdb598",
   "metadata": {},
   "outputs": [
    {
     "data": {
      "image/png": "[encoded data removed]",
      "text/plain": [
       "<Figure size 1000x200 with 5 Axes>"
      ]
     },
     "metadata": {},
     "output_type": "display_data"
    }
   ],
   "source": [
    "color1 = \"tab:blue\"\n",
    "color2 = \"tab:green\"\n",
    "\n",
    "fig, axes = plt.subplots(1, 3, figsize=(10,2))\n",
    "ax = axes.flatten()[0]\n",
    "hist, line = plot_histogram(ax, Y, color=color1, label=\"\")\n",
    "ax.set_title(\"(a) \"+r\"$Y$\")\n",
    "ax.tick_params(axis='y', labelcolor=color1)\n",
    "ax.set_ylabel(\"density\")\n",
    "ax.set_xlabel(\"°C\")\n",
    "\n",
    "ax = axes.flatten()[1]\n",
    "ax2 = ax.twinx()\n",
    "plot_histogram(ax, X1, color=color1, label=\"\")\n",
    "plot_histogram(ax2, X1_obs, color=color2, label=\"\")\n",
    "ax.set_title(\"(b) \"+r\"$X_1$\")\n",
    "ax.tick_params(axis='y', labelcolor=color1)\n",
    "ax2.tick_params(axis='y', labelcolor=color2)\n",
    "ax.set_xlabel(\"°C\")\n",
    "\n",
    "ax = axes.flatten()[2]\n",
    "ax2 = ax.twinx()\n",
    "plot_histogram(ax, X2, color=color1, label=\"multi-model\")\n",
    "plot_histogram(ax2, X2_obs, color=color2, label=\"observed\")\n",
    "ax.tick_params(axis='y', labelcolor=color1)\n",
    "ax2.tick_params(axis='y', labelcolor=color2)\n",
    "ax.set_title(\"(c) \"+r\"$X_2$\")\n",
    "ax.set_xlabel(\"°C/yr\")\n",
    "\n",
    "plt.subplots_adjust(wspace=0.4)\n",
    "fig.legend(bbox_to_anchor=(0.5, -0.1), ncols=2, loc='upper center')\n",
    "plt.show()\n",
    "\n"
   ]
  },
  {
   "cell_type": "code",
   "execution_count": null,
   "id": "662bedbc-6ca7-4497-9748-a7387bef218f",
   "metadata": {},
   "outputs": [],
   "source": []
  },
  {
   "cell_type": "code",
   "execution_count": null,
   "id": "e1c4c32a-20f6-4a31-992b-df821d58c279",
   "metadata": {},
   "outputs": [],
   "source": []
  },
  {
   "cell_type": "code",
   "execution_count": null,
   "id": "59842738-16c4-49d6-ab1f-880b51cc99a2",
   "metadata": {},
   "outputs": [],
   "source": []
  },
  {
   "cell_type": "code",
   "execution_count": null,
   "id": "78cb361e-d2a5-44e3-b4f7-13f9ec97ca7b",
   "metadata": {},
   "outputs": [],
   "source": []
  },
  {
   "cell_type": "code",
   "execution_count": 17,
   "id": "070288ca-0943-410d-959e-13f8c0a51c73",
   "metadata": {},
   "outputs": [
    {
     "name": "stdout",
     "output_type": "stream",
     "text": [
      "\n",
      "\n",
      "------First choice:\n",
      "90% confidence:\n",
      "Global temperature at surface in 2091-2100 relative to 1850-1900:\n",
      "Constrained : [3.09 +- 0.79]\n",
      "Unconstrained : [3.13 +- 1.21]\n",
      "\n",
      "\n",
      "------Second choice:\n",
      "90% confidence:\n",
      "Global temperature at surface in 2091-2100 relative to 1850-1900:\n",
      "Constrained : [2.79 +- 0.88]\n",
      "Unconstrained : [3.13 +- 1.21]\n",
      "\n",
      "\n",
      "------Third choice:\n",
      "90% confidence:\n",
      "Global temperature at surface in 2091-2100 relative to 1850-1900:\n",
      "Constrained : [2.91 +- 0.70]\n",
      "Unconstrained : [3.13 +- 1.21]\n"
     ]
    }
   ],
   "source": [
    "print(\"\\n\\n------First choice:\")\n",
    "[constrained_CI_1, unconstrained_CI, array_x1, constrained_CI_per_x1\n",
    "] = compute_confidence_intervals(X1, X1_obs, Y, 0.90, period_Y, reference_period, return_for_different_x=True)\n",
    "\n",
    "print(\"\\n\\n------Second choice:\")\n",
    "[constrained_CI_2, unconstrained_CI, array_x2, constrained_CI_per_x2\n",
    "] = compute_confidence_intervals(X2, X2_obs, Y, 0.90, period_Y, reference_period, return_for_different_x=True)\n",
    "\n",
    "print(\"\\n\\n------Third choice:\")\n",
    "constrained_CI_3, unconstrained_CI = compute_confidence_intervals(X3, X3_obs, Y, 0.90, period_Y, reference_period)"
   ]
  },
  {
   "cell_type": "code",
   "execution_count": 18,
   "id": "5fe943eb-4f6d-43d0-904b-773f5f9bf081",
   "metadata": {},
   "outputs": [
    {
     "data": {
      "image/png": "[encoded data removed]",
      "text/plain": [
       "<Figure size 700x300 with 3 Axes>"
      ]
     },
     "metadata": {},
     "output_type": "display_data"
    }
   ],
   "source": [
    "# Display parameters\n",
    "fontsize = 12\n",
    "lw_low  = 2\n",
    "lw_high = 3\n",
    "w_bar_wrong = 0.4\n",
    "w_bar_right = 0.6\n",
    "w_bar_true  = 0.6\n",
    "alpha = 0.15\n",
    "label3 = r\"$CI_{90\\%}(Y|X^N=x_0^N)$\"\n",
    "\n",
    "def display_X_Y_relation(ax, X, Y, X_obs, constrained_CI, constrained_CI_per_x, array_x):\n",
    "    markers = ax.scatter(X, Y, label=\"climate models\", s=50, marker=\"o\", facecolor='none', edgecolors=\"black\")\n",
    "    #ax.set_xticks([np.mean(X), np.mean(X_obs)], labels=[\"multi-model-mean\", \"observation\"], fontsize=fontsize, rotation=45, ha='right')\n",
    "    interval = plot_interval(ax, np.mean(X_obs), constrained_CI, \"tab:green\", lw_low, w_bar=w_bar_right, label=label3)\n",
    "    \n",
    "    ax.fill_between(array_x, constrained_CI_per_x[:,0], constrained_CI_per_x[:,1],\n",
    "                         alpha=alpha, color=\"tab:green\")\n",
    "    ax.plot(array_x, np.mean(constrained_CI_per_x, axis=1), color=\"tab:green\",\n",
    "             linewidth=lw_high/2, linestyle='solid', label=r\"$y=\\hat{b}_0+\\hat{b}_1\\,x$\")\n",
    "    return markers, interval\n",
    "\n",
    "    \n",
    "\n",
    "def display_arrows_axes(ax, remove_x=False, label_X=r\"$X$\"):\n",
    "    # remove the top and right axe\n",
    "    ax.spines['right'].set_visible(False)\n",
    "    ax.spines['top'].set_visible(False)\n",
    "    if remove_x:\n",
    "        ax.spines['bottom'].set_visible(False)\n",
    "    \n",
    "    # display an arrow in the x and y axis\n",
    "    xmin,xmax=np.copy(ax.get_xlim())\n",
    "    ymin,ymax=np.copy(ax.get_ylim())\n",
    "    if not remove_x:\n",
    "        ax.plot((1), (0), ls=\"\", marker=\">\", ms=6, color=\"k\", \n",
    "                    clip_on=False, transform = ax.transAxes)\n",
    "        \n",
    "    ax.plot((0), (1), ls=\"\", marker=\"^\", ms=6, color=\"k\",\n",
    "            clip_on=False, transform = ax.transAxes)\n",
    "    ax.set_xlim(xmin,xmax)\n",
    "\n",
    "    # name of the axes\n",
    "    \n",
    "    if not remove_x:\n",
    "        ax.text(1,0.07, label_X,\n",
    "             ha='center', va='center',\n",
    "             transform = ax.transAxes, fontsize=fontsize)\n",
    "        ax.text(-0.05,1.0, r\"$Y$\",\n",
    "         ha='center', va='center',\n",
    "         transform = ax.transAxes, fontsize=fontsize)\n",
    "    else:\n",
    "        ax.text(-0.2,1.0, r\"$Y$\",\n",
    "         ha='center', va='center',\n",
    "         transform = ax.transAxes, fontsize=fontsize)\n",
    "\n",
    "\n",
    "\n",
    "fig, axes = plt.subplots(1,3, figsize=(7,3), sharey=True, width_ratios=[0.3, 1,1])\n",
    "\n",
    "#--------------- First axe: the unconstrained interval\n",
    "axes[0].scatter(2*np.ones(len(Y)), Y, label=\"climate models\", s=50, marker=\"o\", facecolor='none', edgecolors=\"black\", alpha=1)\n",
    "interval_unconstrained = plot_interval(axes[0], 0, unconstrained_CI, \"black\", lw_low, w_bar=w_bar_right, label=r\"$CI_{90\\%}(Y)$\")\n",
    "axes[0].set_xlim(-2, 3)\n",
    "axes[0].set_xticks([])\n",
    "\n",
    "#--------------- Second and third axes: intervals constrained by X1 and X2\n",
    "markers, interval_constrained = display_X_Y_relation(axes[1], X1, Y, X1_obs, constrained_CI_1, constrained_CI_per_x1, array_x1)\n",
    "markers, interval_constrained = display_X_Y_relation(axes[2], X2, Y, X2_obs, constrained_CI_2, constrained_CI_per_x2, array_x2)\n",
    "\n",
    "# Label the axes\n",
    "axes[1].set_xlabel(\"GSAT mean in {}-{} (°C)\\nrelative to {}-{}\".format(period_X1[0], period_X1[1], reference_period[0], reference_period[1]))\n",
    "axes[2].set_xlabel(\"GSAT trend in {}-{} (°C/yr)\\nrelative to {}-{}\".format(period_X2[0], period_X2[1], reference_period[0], reference_period[1]))\n",
    "axes[0].set_ylabel(\"GSAT mean in {}-{} (°C)\\nrelative to {}-{}\".format(period_Y[0], period_Y[1], reference_period[0], reference_period[1]))\n",
    "\n",
    "\n",
    "# Vertical lines corresponding to the mean\n",
    "ymin, ymax = axes[0].get_ylim()\n",
    "for i, x in zip([1,2], [np.mean(X1), np.mean(X2)]):\n",
    "    axes[i].vlines(x, ymin=0, ymax=np.mean(unconstrained_CI), linestyle='dotted',\n",
    "               color=\"black\", linewidth=0.8, zorder=1000, alpha=1)\n",
    "axes[0].set_ylim(ymin, ymax)\n",
    "\n",
    "if False:\n",
    "    # Horizontal and vertical lines corresponding to the constrained values\n",
    "    for i, constrained_CI, X_obs in zip([1,2], [constrained_CI_1, constrained_CI_2], [X1_obs, X2_obs]):\n",
    "        xmin, xmax = axes[i].get_xlim()\n",
    "        axes[i].hlines(np.mean(constrained_CI), linestyle='dotted', xmin=xmin, xmax=np.mean(X_obs),\n",
    "                       colors=\"tab:green\", linewidth=0.8, zorder=10000, alpha=0.5, clip_on=False)\n",
    "        axes[i].set_xlim(xmin, xmax)\n",
    "\n",
    "\n",
    "# Horizontal lines corresponding to the unconstrained value\n",
    "line_MMM = axes[0].hlines(np.mean(unconstrained_CI), linestyle='dotted', xmin=-2, xmax=0,\n",
    "               colors=\"black\", linewidth=0.8, zorder=10000, alpha=1, clip_on=False)\n",
    "for i, X in zip([1,2], [X1,X2]):\n",
    "    xmin, xmax = axes[i].get_xlim()\n",
    "    axes[i].hlines(np.mean(unconstrained_CI), linestyle='dotted', xmin=xmin, xmax=np.mean(X),\n",
    "                   colors=\"black\", linewidth=0.8, zorder=10000, alpha=1, clip_on=False)\n",
    "    axes[i].set_xlim(xmin, xmax)\n",
    "    \n",
    "\n",
    "# Display arrows in the axes\n",
    "display_arrows_axes(axes[0], remove_x=True)\n",
    "display_arrows_axes(axes[1], label_X=r\"$X_1$\")\n",
    "display_arrows_axes(axes[2], label_X=r\"$X_2$\")\n",
    "\n",
    "# Display the multi-model mean and observation in the x axis\n",
    "for i, X_obs in zip([1,2], [X1_obs, X2_obs]):\n",
    "    axes[i].text(np.mean(X_obs), ymin+0.2, \"obs\", ha='center', va='center', color=\"tab:green\")\n",
    "    axes[i].vlines(np.mean(X_obs), ymin=ymin-0.5, ymax=ymin+0.08, color=\"tab:green\")\n",
    "\n",
    "leg = fig.legend([interval_unconstrained, interval_constrained, markers, line_MMM],\n",
    "           [\"unconstrained\", \"constrained\", \"climate models\", \"multi-model-mean\"],\n",
    "           loc='upper center', bbox_to_anchor=(0.5, -0.15), ncol=4, title=\"Confidence interval of Y:\")\n",
    "leg._legend_box.align = \"left\"\n",
    "\n",
    "# Titles\n",
    "axes[0].set_title(\"(a) Unconstrained\", pad=20, fontsize=11)\n",
    "axes[1].set_title(\"(b) Constrained by \"+r\"$X_1$\", pad=20, fontsize=11)\n",
    "axes[2].set_title(\"(c) Constrained by \"+r\"$X_2$\", pad=20, fontsize=11)\n",
    "\n",
    "plt.subplots_adjust(wspace=0.3)#, top=0.2)\n",
    "\n",
    "plt.show()"
   ]
  },
  {
   "cell_type": "code",
   "execution_count": 19,
   "id": "ea37770a-e2a0-468e-be2f-2c73d0c4ce5c",
   "metadata": {},
   "outputs": [
    {
     "data": {
      "text/plain": [
       "0.018099968722909275"
      ]
     },
     "execution_count": 19,
     "metadata": {},
     "output_type": "execute_result"
    }
   ],
   "source": [
    "np.mean(X2_obs)"
   ]
  },
  {
   "cell_type": "code",
   "execution_count": null,
   "id": "fcfbc9b1-de66-4bac-889a-0af20a300bf1",
   "metadata": {},
   "outputs": [],
   "source": []
  },
  {
   "cell_type": "code",
   "execution_count": null,
   "id": "525267de-6167-48de-9e9c-7161a46ff279",
   "metadata": {},
   "outputs": [],
   "source": []
  },
  {
   "cell_type": "markdown",
   "id": "e351cfa9-baf4-4c8c-8703-017273d6ac5b",
   "metadata": {},
   "source": [
    "# Comparison with existing methods\n",
    "## Methods \"Bayesian\" (Bowman et al. (2018), Ribes et al. (2021))\n",
    "These methods lead to the same interval as our, with the difference to neglecting the fact that there is a limited number of climate models M.\n",
    "\n",
    "## Method linear from Cox et al. (2018)\n",
    "Cox et al. obtain an estimate and uncertainty of:\n",
    "- $\\hat{a}_0 + \\hat{a}_1 \\,x_0$\n",
    "- $z\\, \\sqrt{\\sigma_{\\varepsilon}^2 \\, (1+\\frac{1}{M} + \\frac{(x_0 - \\hat{\\mu}_X)^2}{M\\,\\hat{\\sigma}_X^2}) + a_1^2 \\, \\sigma_N^2}$\n",
    "\n",
    "Where with our framework we have:\n",
    "- $\\hat{b}_0 + \\hat{b}_1 \\,x_0$\n",
    "- $t^{M-2} \\, \\sigma_{\\varepsilon^N} \\, \\sqrt{1+\\frac{1}{M} + \\frac{(x_0 - \\hat{\\mu}_X)^2}{M\\,(\\hat{\\sigma}_X^2+\\sigma_X^2)}}$\n",
    "\n",
    "z and t are gaussian and student quantiles. The main difference is that Cox et al. 2018 considers the regression of $X$ on $Y$, while we consider the regression of $X^N$ (observational noise) on $Y$:\n",
    "- $Y = a_0 + a_1\\,X + \\varepsilon$\n",
    "- $Y = b_0 + b_1\\,X^N + \\varepsilon^N$\n",
    "\n",
    "\n",
    "In the example of $X_1$ that constraint Y, we obtain:"
   ]
  },
  {
   "cell_type": "code",
   "execution_count": 20,
   "id": "f5a1616a-20a4-4c88-a2e6-f0596b8226db",
   "metadata": {},
   "outputs": [
    {
     "name": "stdout",
     "output_type": "stream",
     "text": [
      "Our result:\n",
      "90% confidence:\n",
      "Global temperature at surface in 2091-2100 relative to 1850-1900:\n",
      "Constrained : [3.09 +- 0.79]\n",
      "Unconstrained : [3.13 +- 1.21]\n"
     ]
    }
   ],
   "source": [
    "print(\"Our result:\")\n",
    "[constrained_CI_1, unconstrained_CI, array_x1, constrained_CI_per_x1\n",
    "] = compute_confidence_intervals(X1, X1_obs, Y, 0.90, period_Y, reference_period, return_for_different_x=True)"
   ]
  },
  {
   "cell_type": "code",
   "execution_count": 21,
   "id": "580f2e2f-7f8e-44a3-8c7e-e91935e3ab72",
   "metadata": {},
   "outputs": [
    {
     "name": "stdout",
     "output_type": "stream",
     "text": [
      "Result neglecting the limited sample size:\n",
      "90% confidence:\n",
      "Global temperature at surface in 2091-2100 relative to 1850-1900:\n",
      "Constrained : [3.09 +- 0.75]\n",
      "Unconstrained : [3.13 +- 1.15]\n"
     ]
    }
   ],
   "source": [
    "print(\"Result neglecting the limited sample size:\")\n",
    "[constrained_CI_1, unconstrained_CI, array_x1, constrained_CI_per_x1\n",
    "] = compute_confidence_intervals(X1, X1_obs, Y, 0.90, period_Y, reference_period, return_for_different_x=True, neglect_M=True)"
   ]
  },
  {
   "cell_type": "code",
   "execution_count": 22,
   "id": "e611a8b1-343b-4aa2-a1ca-a0c1b30e408b",
   "metadata": {},
   "outputs": [
    {
     "name": "stdout",
     "output_type": "stream",
     "text": [
      "result obtained using the method from Cox et al. 2018:\n",
      "Constrained : [3.09 +- 0.76]\n"
     ]
    }
   ],
   "source": [
    "print(\"result obtained using the method from Cox et al. 2018:\")\n",
    "\n",
    "var_N = np.var(X1_obs, ddof=1)\n",
    "constrained_CI = compute_Cox_confidence_intervals(X1, np.mean(X1_obs).reshape(-1,1), Y, 0.9, var_N)\n",
    "\n",
    "print(\"Constrained : [{:.2f} +- {:.2f}]\".format(np.mean(constrained_CI), np.diff(constrained_CI)[0]/2))"
   ]
  },
  {
   "cell_type": "code",
   "execution_count": null,
   "id": "4581608a-78fb-4b87-a5a8-97c6996737fb",
   "metadata": {},
   "outputs": [],
   "source": []
  },
  {
   "cell_type": "code",
   "execution_count": 23,
   "id": "4419f5cf-90a3-468d-804a-58a4ac32d7ab",
   "metadata": {},
   "outputs": [
    {
     "data": {
      "text/plain": [
       "7.577456345407885"
      ]
     },
     "execution_count": 23,
     "metadata": {},
     "output_type": "execute_result"
    }
   ],
   "source": [
    "SNR = np.std(X1)/np.std(X1_obs)\n",
    "SNR"
   ]
  },
  {
   "cell_type": "code",
   "execution_count": null,
   "id": "95fa3be8-0e7e-43fa-89b4-5ab46ed3034e",
   "metadata": {},
   "outputs": [],
   "source": []
  },
  {
   "cell_type": "markdown",
   "id": "c3517ebd-9604-407a-9e38-bbea883df976",
   "metadata": {},
   "source": [
    "# The same with only 10 models"
   ]
  },
  {
   "cell_type": "code",
   "execution_count": 24,
   "id": "b4c0b297-af94-4d3d-97ef-e1552e7d74cd",
   "metadata": {},
   "outputs": [
    {
     "name": "stdout",
     "output_type": "stream",
     "text": [
      "Our result:\n",
      "90% confidence:\n",
      "Global temperature at surface in 2091-2100 relative to 1850-1900:\n",
      "Constrained : [3.21 +- 0.90]\n",
      "Unconstrained : [2.71 +- 2.04]\n"
     ]
    }
   ],
   "source": [
    "print(\"Our result:\")\n",
    "[constrained_CI_1, unconstrained_CI, array_x1, constrained_CI_per_x1\n",
    "] = compute_confidence_intervals(X1[-5:], X1_obs, Y[-5:], 0.90, period_Y, reference_period, return_for_different_x=True)"
   ]
  },
  {
   "cell_type": "code",
   "execution_count": 25,
   "id": "a54efefc-2eb0-483f-826a-61489ca25e8d",
   "metadata": {},
   "outputs": [
    {
     "name": "stdout",
     "output_type": "stream",
     "text": [
      "Result neglecting the limited sample size:\n",
      "90% confidence:\n",
      "Global temperature at surface in 2091-2100 relative to 1850-1900:\n",
      "Constrained : [3.21 +- 0.56]\n",
      "Unconstrained : [2.71 +- 1.44]\n"
     ]
    }
   ],
   "source": [
    "print(\"Result neglecting the limited sample size:\")\n",
    "[constrained_CI_1, unconstrained_CI, array_x1, constrained_CI_per_x1\n",
    "] = compute_confidence_intervals(X1[-5:], X1_obs, Y[-5:], 0.90, period_Y, reference_period, return_for_different_x=True, neglect_M=True)"
   ]
  },
  {
   "cell_type": "code",
   "execution_count": 26,
   "id": "7bba73c0-7af7-40d7-955f-abd33cf8c3f4",
   "metadata": {},
   "outputs": [
    {
     "name": "stdout",
     "output_type": "stream",
     "text": [
      "result obtained using the method from Cox et al. 2018:\n",
      "Constrained : [3.23 +- 0.62]\n"
     ]
    }
   ],
   "source": [
    "print(\"result obtained using the method from Cox et al. 2018:\")\n",
    "\n",
    "var_N = np.var(X1_obs, ddof=1)\n",
    "constrained_CI = compute_Cox_confidence_intervals(X1[-5:], np.mean(X1_obs).reshape(-1,1), Y[-5:], 0.9, var_N)\n",
    "\n",
    "print(\"Constrained : [{:.2f} +- {:.2f}]\".format(np.mean(constrained_CI), np.diff(constrained_CI)[0]/2))"
   ]
  },
  {
   "cell_type": "code",
   "execution_count": null,
   "id": "2ca0e80e-4cbc-4eed-acd3-be6c2fe51512",
   "metadata": {},
   "outputs": [],
   "source": []
  },
  {
   "cell_type": "markdown",
   "id": "f69fff8b-61a1-45f1-bcb4-376cabb8dffa",
   "metadata": {},
   "source": [
    "# The same but with a SNR=1"
   ]
  },
  {
   "cell_type": "code",
   "execution_count": 52,
   "id": "730d6d4a-cf92-4235-8ab3-7ffa4028e6f0",
   "metadata": {},
   "outputs": [],
   "source": [
    "SNR = 0.1"
   ]
  },
  {
   "cell_type": "code",
   "execution_count": 53,
   "id": "37b7eb77-4329-48f1-8da9-49fc19e15087",
   "metadata": {},
   "outputs": [
    {
     "name": "stdout",
     "output_type": "stream",
     "text": [
      "Our result:\n",
      "90% confidence:\n",
      "Global temperature at surface in 2091-2100 relative to 1850-1900:\n",
      "Constrained : [3.13 +- 1.21]\n",
      "Unconstrained : [3.13 +- 1.21]\n"
     ]
    }
   ],
   "source": [
    "print(\"Our result:\")\n",
    "[constrained_CI_1, unconstrained_CI, array_x1, constrained_CI_per_x1\n",
    "] = compute_confidence_intervals(X1, X1_obs, Y, 0.90, period_Y, reference_period, return_for_different_x=True, impose_SNR=SNR)"
   ]
  },
  {
   "cell_type": "code",
   "execution_count": 54,
   "id": "f768036c-3ca8-4622-ae98-8884857209c0",
   "metadata": {},
   "outputs": [
    {
     "name": "stdout",
     "output_type": "stream",
     "text": [
      "Result neglecting the limited sample size:\n",
      "90% confidence:\n",
      "Global temperature at surface in 2091-2100 relative to 1850-1900:\n",
      "Constrained : [3.13 +- 1.15]\n",
      "Unconstrained : [3.13 +- 1.15]\n"
     ]
    }
   ],
   "source": [
    "print(\"Result neglecting the limited sample size:\")\n",
    "[constrained_CI_1, unconstrained_CI, array_x1, constrained_CI_per_x1\n",
    "] = compute_confidence_intervals(X1, X1_obs, Y, 0.90, period_Y, reference_period, return_for_different_x=True, neglect_M=True, impose_SNR=SNR)"
   ]
  },
  {
   "cell_type": "code",
   "execution_count": 55,
   "id": "62524ac3-39f7-4485-b631-0997e0aed6d9",
   "metadata": {},
   "outputs": [
    {
     "name": "stdout",
     "output_type": "stream",
     "text": [
      "result obtained using the method from Cox et al. 2018:\n",
      "Constrained : [3.09 +- 8.87]\n"
     ]
    }
   ],
   "source": [
    "print(\"result obtained using the method from Cox et al. 2018:\")\n",
    "\n",
    "var_N = np.var(X1, ddof=1) / SNR**2\n",
    "constrained_CI = compute_Cox_confidence_intervals(X1, np.mean(X1_obs).reshape(-1,1), Y, 0.9, var_N)\n",
    "\n",
    "print(\"Constrained : [{:.2f} +- {:.2f}]\".format(np.mean(constrained_CI), np.diff(constrained_CI)[0]/2))"
   ]
  },
  {
   "cell_type": "code",
   "execution_count": null,
   "id": "dece5839-8777-4f9b-87a2-1a9f062a1c82",
   "metadata": {},
   "outputs": [],
   "source": []
  },
  {
   "cell_type": "code",
   "execution_count": null,
   "id": "6e5f6ed5-63b5-4f18-8bd1-445dc159ee8e",
   "metadata": {},
   "outputs": [],
   "source": []
  },
  {
   "cell_type": "markdown",
   "id": "6e9e36ce-d440-4960-b77c-2aa21c7e2ccb",
   "metadata": {},
   "source": [
    "# Test : what is happening if we add a bias in climate models"
   ]
  },
  {
   "cell_type": "code",
   "execution_count": 65,
   "id": "e633b732-55e0-4b9c-82f4-3831778f0a2c",
   "metadata": {},
   "outputs": [
    {
     "data": {
      "text/plain": [
       "0.7664076922254656"
      ]
     },
     "execution_count": 65,
     "metadata": {},
     "output_type": "execute_result"
    }
   ],
   "source": [
    "np.corrcoef(X1.flatten(), Y)[0,1]"
   ]
  },
  {
   "cell_type": "code",
   "execution_count": 70,
   "id": "38aa3bd4-524d-4033-898d-25091c01e23e",
   "metadata": {},
   "outputs": [
    {
     "name": "stdout",
     "output_type": "stream",
     "text": [
      "90% confidence:\n",
      "Global temperature at surface in 2091-2100 relative to 1850-1900:\n",
      "Constrained : [3.09 +- 0.79]\n",
      "Unconstrained : [3.13 +- 1.21]\n"
     ]
    },
    {
     "data": {
      "image/png": "[encoded data removed]",
      "text/plain": [
       "<Figure size 640x480 with 1 Axes>"
      ]
     },
     "metadata": {},
     "output_type": "display_data"
    }
   ],
   "source": [
    "[constrained_CI_1, unconstrained_CI, array_x1, constrained_CI_per_x1\n",
    "] = compute_confidence_intervals(X1, X1_obs, Y, 0.90, period_Y, reference_period, return_for_different_x=True)\n",
    "\n",
    "fig, ax = plt.subplots(1,1)\n",
    "\n",
    "markers, interval_constrained = display_X_Y_relation(ax, X1, Y, X1_obs, constrained_CI_1, constrained_CI_per_x1, array_x1)\n"
   ]
  },
  {
   "cell_type": "code",
   "execution_count": 80,
   "id": "63b95296-679b-4621-b79b-8c6450ce971f",
   "metadata": {},
   "outputs": [
    {
     "name": "stdout",
     "output_type": "stream",
     "text": [
      "90% confidence:\n",
      "Global temperature at surface in 2091-2100 relative to 1850-1900:\n",
      "Constrained : [2.37 +- 0.91]\n",
      "Unconstrained : [4.13 +- 1.21]\n"
     ]
    },
    {
     "data": {
      "image/png": "[encoded data removed]",
      "text/plain": [
       "<Figure size 640x480 with 1 Axes>"
      ]
     },
     "metadata": {},
     "output_type": "display_data"
    }
   ],
   "source": [
    "[constrained_CI_1, unconstrained_CI, array_x1, constrained_CI_per_x1\n",
    "] = compute_confidence_intervals(X1+1., X1_obs, Y+1., 0.90, period_Y, reference_period, return_for_different_x=True)\n",
    "\n",
    "fig, ax = plt.subplots(1,1)\n",
    "\n",
    "markers, interval_constrained = display_X_Y_relation(ax, X1+1., Y+1, X1_obs, constrained_CI_1, constrained_CI_per_x1, array_x1)\n"
   ]
  },
  {
   "cell_type": "code",
   "execution_count": null,
   "id": "f7ea52b4-b3f0-40cf-a60a-495676488643",
   "metadata": {},
   "outputs": [],
   "source": []
  },
  {
   "cell_type": "code",
   "execution_count": null,
   "id": "84ea5aee-64a1-4bab-a482-bdd5907915b9",
   "metadata": {},
   "outputs": [],
   "source": []
  },
  {
   "cell_type": "code",
   "execution_count": null,
   "id": "f071178a-3147-4bbe-912b-bf41fbe266e7",
   "metadata": {},
   "outputs": [],
   "source": []
  },
  {
   "cell_type": "code",
   "execution_count": null,
   "id": "10341a7e-2f0a-43ea-ab8a-70287a80dc5d",
   "metadata": {},
   "outputs": [],
   "source": []
  },
  {
   "cell_type": "code",
   "execution_count": null,
   "id": "e8f5a8ef-0fb7-4628-adcd-088302e8d0f8",
   "metadata": {},
   "outputs": [],
   "source": []
  },
  {
   "cell_type": "markdown",
   "id": "b5ab427c-b318-46e4-aa2a-fe3258a43aec",
   "metadata": {},
   "source": [
    "# Test on the data from the article Cox et al. 2018, to test if we obtain the same result\n",
    "Their result from Cox et al. 2018 is an ECS in the interval [2.2, 3.4] (66% confidence) when constrained by Ψ. We test if using their data we obtain the same result."
   ]
  },
  {
   "cell_type": "code",
   "execution_count": 31,
   "id": "1b4cb3f9-213f-4136-9e0d-2ff0ac326dcb",
   "metadata": {},
   "outputs": [
    {
     "data": {
      "text/plain": [
       "array([2.23612204, 3.36807833])"
      ]
     },
     "execution_count": 31,
     "metadata": {},
     "output_type": "execute_result"
    }
   ],
   "source": [
    "import numpy as np\n",
    "\n",
    "# data from Extended Data Table 1\n",
    "# Columns : λ (Wm⁻² K⁻¹), ECS (K), Q₂ₓCO₂/σₙ, Ψ (K)\n",
    "# Rows : climate models\n",
    "data = np.array([\n",
    "    [0.8, 3.8, 8.5, 0.22],\n",
    "    [1.0, 3.7, 8.3, 0.17],\n",
    "    [1.2, 2.9, 7.3, 0.19],\n",
    "    [1.1, 3.3, 8.7, 0.16],\n",
    "    [0.6, 4.1, 6.1, 0.21],\n",
    "    [1.4, 2.4, 5.9, 0.15],\n",
    "    [0.6, 4.6, 7.8, 0.29],\n",
    "    [1.4, 2.1, 11.9, 0.07],\n",
    "    [1.0, 2.6, 7.2, 0.16],\n",
    "    [0.9, 4.7, 11.7, 0.23],\n",
    "    [1.1, 3.6, 11.9, 0.15],\n",
    "    [1.2, 2.6, 9.3, 0.09],\n",
    "    [1.1, 2.8, 7.8, 0.14],\n",
    "    [1.1, 2.8, 6.9, 0.19],\n",
    "    [1.8, 2.1, 11.1, 0.12],\n",
    "    [1.0, 4.1, 8.0, 0.15],\n",
    "    [1.3, 2.4, 7.1, 0.20],\n",
    "    [0.8, 4.0, 6.7, 0.36],\n",
    "    [0.8, 4.1, 8.6, 0.20],\n",
    "    [1.5, 2.7, 10.2, 0.23],\n",
    "    [1.2, 2.9, 7.4, 0.14],\n",
    "    [1.7, 2.3, 11.8, 0.10]\n",
    "])\n",
    "\n",
    "# only the 16  first models are used in their article (see their figure 2.b)\n",
    "ECS = data[:16, 1]\n",
    "phi = data[:16, 3]\n",
    "\n",
    "# According to the Extended Data Table 2, HadCrut4 gives an observed value of Ψ of mean 0.13 and standard deviation of 0.016.\n",
    "phi_obs = np.array(0.13)\n",
    "var_phi_obs = np.square(0.016)\n",
    "compute_Cox_confidence_intervals(phi.reshape(-1,1), phi_obs.reshape(-1,1), ECS, 0.66, var_phi_obs)"
   ]
  },
  {
   "cell_type": "markdown",
   "id": "3b3a203b-ba32-42b6-b0f8-d51351d60286",
   "metadata": {},
   "source": [
    "We correctly obtained [2.2, 3.4] (with a 66% confidence) !"
   ]
  },
  {
   "cell_type": "code",
   "execution_count": null,
   "id": "08b54051-779f-44f3-9801-589da1d866c6",
   "metadata": {},
   "outputs": [],
   "source": []
  },
  {
   "cell_type": "markdown",
   "id": "2bc1f84c-70a0-46e8-bcff-5e9ed0ee480a",
   "metadata": {},
   "source": [
    "# Cross-validation (leave-one-out)"
   ]
  },
  {
   "cell_type": "code",
   "execution_count": 32,
   "id": "fa51a72c-f906-4ba7-a2bf-0245348815e3",
   "metadata": {},
   "outputs": [
    {
     "data": {
      "text/plain": [
       "[<matplotlib.lines.Line2D at 0x17685b87460>]"
      ]
     },
     "execution_count": 32,
     "metadata": {},
     "output_type": "execute_result"
    },
    {
     "data": {
      "image/png": "[encoded data removed]",
      "text/plain": [
       "<Figure size 640x480 with 2 Axes>"
      ]
     },
     "metadata": {},
     "output_type": "display_data"
    }
   ],
   "source": [
    "\n",
    "import scipy.stats as stats\n",
    "x = np.linspace(X1.min(), X1.max(), 2000)\n",
    "plt.subplot(121)\n",
    "plt.hist(X1, density=True)\n",
    "plt.plot(x, stats.norm.pdf(x, np.mean(X1), np.std(X1)), label=\"unconstrained\")\n",
    "\n",
    "x = np.linspace(X2.min(), X2.max(), 2000)\n",
    "plt.subplot(122)\n",
    "plt.hist(X2, density=True)\n",
    "plt.plot(x, stats.norm.pdf(x, np.mean(X2), np.std(X2)), label=\"unconstrained\")\n"
   ]
  },
  {
   "cell_type": "code",
   "execution_count": null,
   "id": "9141d086-35ee-4522-b3e0-224b7715d777",
   "metadata": {},
   "outputs": [],
   "source": []
  },
  {
   "cell_type": "code",
   "execution_count": 33,
   "id": "3a1ee9ad-acc4-41d1-84fb-a2f0037eda8f",
   "metadata": {},
   "outputs": [],
   "source": [
    "# boostrap: we make virtually more climate models by taking values from a gaussian with the same mean and variance than the data\n",
    "\n"
   ]
  },
  {
   "cell_type": "code",
   "execution_count": 42,
   "id": "40a359c4-db33-4d66-8925-b1db13f0b19f",
   "metadata": {
    "scrolled": true
   },
   "outputs": [],
   "source": [
    "\n",
    "Cov_N   = np.cov(X1_bootstrap, rowvar=False, ddof=1)\n",
    "\n",
    "from sklearn.model_selection import KFold, train_test_split\n",
    "\n",
    "value_in_interval_perFold_our_method = []\n",
    "value_in_interval_perFold_method2    = []\n",
    "value_in_interval_perFold_method3    = []\n",
    "for i in range(100):\n",
    "\n",
    "    X_train = np.random.normal(np.mean(X1), np.std(X1), 5)\n",
    "    X_test  = np.random.normal(np.mean(X1), np.std(X1), 100)\n",
    "    Y_train = np.random.normal(np.mean(Y), np.std(Y), 5)\n",
    "    Y_test  = np.random.normal(np.mean(Y), np.std(Y), 100)\n",
    "\n",
    "    X_train = X_train.reshape(-1,1)\n",
    "    X_test = X_test.reshape(-1,1)\n",
    "\n",
    "    \n",
    "    for x_test, y_test in zip(X_test, Y_test):\n",
    "        \n",
    "        # Our method\n",
    "        [constrained_CI_1, unconstrained_CI\n",
    "        ] = compute_confidence_intervals(X_train, x_test.reshape(-1,1), Y_train, 0.90, period_X1, reference_period, precomputed_Cov_N=Cov_N, display=False)\n",
    "        ymin, ymax = constrained_CI_1\n",
    "        value_in_interval_perFold_our_method.append(np.logical_and(ymin<=y_test, y_test<=ymax))\n",
    "\n",
    "        # neglecting the limited sample size\n",
    "        [constrained_CI_1, unconstrained_CI\n",
    "        ] = compute_confidence_intervals(X_train, x_test.reshape(-1,1), Y_train, 0.90, period_X1, reference_period, precomputed_Cov_N=Cov_N, display=False, neglect_M=True)\n",
    "        ymin, ymax = constrained_CI_1\n",
    "        value_in_interval_perFold_method2.append(np.logical_and(ymin<=Y_test, Y_test<=ymax))\n",
    "\n",
    "        # Method Cox\n",
    "        constrained_CI = compute_Cox_confidence_intervals(X_train, np.mean(x_test).reshape(-1,1), Y_train, 0.9, Cov_N)\n",
    "        ymin, ymax = constrained_CI\n",
    "        value_in_interval_perFold_method3.append(np.logical_and(ymin<=y_test, y_test<=ymax))\n"
   ]
  },
  {
   "cell_type": "code",
   "execution_count": 43,
   "id": "ec9db7d7-4fa3-4375-98d2-88c8a1c3d461",
   "metadata": {},
   "outputs": [
    {
     "data": {
      "text/plain": [
       "(0.9045, 0.753837, 0.8172)"
      ]
     },
     "execution_count": 43,
     "metadata": {},
     "output_type": "execute_result"
    }
   ],
   "source": [
    "np.mean(value_in_interval_perFold_our_method), np.mean(value_in_interval_perFold_method2), np.mean(value_in_interval_perFold_method3)"
   ]
  },
  {
   "cell_type": "code",
   "execution_count": null,
   "id": "8a864f34-70d8-4bf2-a63f-46e18d450677",
   "metadata": {},
   "outputs": [],
   "source": []
  },
  {
   "cell_type": "code",
   "execution_count": null,
   "id": "1702f298-0d2c-4020-b2e8-c5642ec59b2e",
   "metadata": {},
   "outputs": [],
   "source": []
  },
  {
   "cell_type": "code",
   "execution_count": null,
   "id": "b23a3526-4db2-4adf-bfc6-6d94e68e451e",
   "metadata": {},
   "outputs": [],
   "source": [
    "compute_confidence_intervals(X_train, X_test, Y_train, 0.90, period_X1, reference_period, precomputed_Cov_N=Cov_N, display=False)"
   ]
  },
  {
   "cell_type": "code",
   "execution_count": null,
   "id": "1c06558e-f050-4d97-86c2-e274044bf689",
   "metadata": {},
   "outputs": [],
   "source": [
    "np.mean(value_in_interval_perFold_our_method), np.mean(value_in_interval_perFold_method2), np.mean(value_in_interval_perFold_method3)"
   ]
  },
  {
   "cell_type": "code",
   "execution_count": null,
   "id": "1f1ab194-d78d-42ca-a7a1-c6998cc0f8db",
   "metadata": {},
   "outputs": [],
   "source": []
  },
  {
   "cell_type": "code",
   "execution_count": null,
   "id": "08d05a0d-d806-430f-8da4-64d452f937d0",
   "metadata": {},
   "outputs": [],
   "source": [
    "plt.hist(X1)"
   ]
  },
  {
   "cell_type": "code",
   "execution_count": null,
   "id": "be941b59-f63c-45e7-bf89-76786054aec2",
   "metadata": {},
   "outputs": [],
   "source": [
    "plt.hist(Y)"
   ]
  },
  {
   "cell_type": "code",
   "execution_count": null,
   "id": "3d75749c-750e-4f70-b038-fd27bb962af4",
   "metadata": {},
   "outputs": [],
   "source": []
  },
  {
   "cell_type": "code",
   "execution_count": null,
   "id": "3dc8a71e-4660-4cc2-ae65-a4fe52c3a5ac",
   "metadata": {},
   "outputs": [],
   "source": []
  },
  {
   "cell_type": "code",
   "execution_count": null,
   "id": "64036821-e821-4fbd-8a32-a03210f6538d",
   "metadata": {},
   "outputs": [],
   "source": []
  },
  {
   "cell_type": "code",
   "execution_count": null,
   "id": "e4ba80bc-698d-43eb-892d-176e67599f24",
   "metadata": {},
   "outputs": [],
   "source": []
  },
  {
   "cell_type": "code",
   "execution_count": null,
   "id": "81fa5320-8e93-4e78-9938-23c3e82baec9",
   "metadata": {},
   "outputs": [],
   "source": []
  },
  {
   "cell_type": "markdown",
   "id": "660d1fbb-c209-4274-b227-3787fda7fed0",
   "metadata": {},
   "source": [
    "# Test with Y that is observable, to compare what we obtain with the real results\n",
    "We use X1 as Y, and X2 as X"
   ]
  },
  {
   "cell_type": "code",
   "execution_count": 44,
   "id": "7a4fb490-c62f-455e-80d4-8f50e73c85a3",
   "metadata": {},
   "outputs": [],
   "source": [
    "Y_bis     = np.copy(X1).flatten()\n",
    "Y_bis_obs = np.copy(X1_obs).flatten()"
   ]
  },
  {
   "cell_type": "code",
   "execution_count": 45,
   "id": "094be10d-4192-4167-a38a-cf979b045665",
   "metadata": {},
   "outputs": [
    {
     "name": "stdout",
     "output_type": "stream",
     "text": [
      "the correlation between the global tas averaged in 2091-2100 and averaged in 1850-1975 is : 0.55\n",
      "the correlation between the global tas averaged in 2091-2100 and averaged in 1975-2014 is : 0.73\n",
      "the correlation between the global tas averaged in 2091-2100 and averaged in 2015-2024 is : 1.00\n",
      "the correlation between the global tas averaged in 2091-2100 and trend in 1850-1975 is : 0.53\n",
      "the correlation between the global tas averaged in 2091-2100 and trend in 1975-2014 is : 0.58\n",
      "the correlation between the global tas averaged in 2091-2100 and trend in 2015-2024 is : 0.32\n"
     ]
    }
   ],
   "source": [
    "compute_correlation_from_period([1850, 1975], CMIP6_times, CMIP6_global_tas, Y_bis, period_Y)\n",
    "compute_correlation_from_period([1975, 2014], CMIP6_times, CMIP6_global_tas, Y_bis, period_Y)\n",
    "compute_correlation_from_period([2015, 2024], CMIP6_times, CMIP6_global_tas, Y_bis, period_Y)\n",
    "\n",
    "compute_correlation_from_period([1850, 1975], CMIP6_times, CMIP6_global_tas, Y_bis, period_Y, trend=True)\n",
    "compute_correlation_from_period([1975, 2014], CMIP6_times, CMIP6_global_tas, Y_bis, period_Y, trend=True)\n",
    "compute_correlation_from_period([2015, 2024], CMIP6_times, CMIP6_global_tas, Y_bis, period_Y, trend=True)"
   ]
  },
  {
   "cell_type": "code",
   "execution_count": 46,
   "id": "70fc8f11-96e4-4126-a84f-ff5f0023ec54",
   "metadata": {},
   "outputs": [],
   "source": [
    "period_X = [1975, 2014]\n",
    "X        = compute_X_from_period(period_X, CMIP6_times, CMIP6_global_tas).reshape(-1,1)\n",
    "X_obs    = compute_X_from_period(period_X, time_HadCrut5, global_tas_obs_perRealisation_perTime).reshape(-1,1)"
   ]
  },
  {
   "cell_type": "markdown",
   "id": "e1f4ac59-894a-40c0-ab2b-902584b62f89",
   "metadata": {},
   "source": [
    "## Compute for each method, the % of observations of Y that falls into the constrained interval"
   ]
  },
  {
   "cell_type": "code",
   "execution_count": 47,
   "id": "14180cce-625e-4bf4-866b-327b0cf201ef",
   "metadata": {},
   "outputs": [
    {
     "name": "stdout",
     "output_type": "stream",
     "text": [
      "Our result:\n",
      "66% confidence:\n",
      "Global temperature at surface in 2015-2024 relative to 1850-1900:\n",
      "Constrained : [1.34 +- 0.21]\n",
      "Unconstrained : [1.28 +- 0.30]\n"
     ]
    }
   ],
   "source": [
    "print(\"Our result:\")\n",
    "[constrained_CI_1, unconstrained_CI, array_x1, constrained_CI_per_x1\n",
    "] = compute_confidence_intervals(X, X_obs, Y_bis, 0.66, period_X1, reference_period, return_for_different_x=True)"
   ]
  },
  {
   "cell_type": "code",
   "execution_count": 48,
   "id": "8b320992-180d-4705-98e1-0e1b8d2968a8",
   "metadata": {},
   "outputs": [
    {
     "data": {
      "text/plain": [
       "(array([1.12955429, 1.55115206]), 1.258913402602645)"
      ]
     },
     "execution_count": 48,
     "metadata": {},
     "output_type": "execute_result"
    }
   ],
   "source": [
    "constrained_CI_1, np.mean(Y_bis_obs)"
   ]
  },
  {
   "cell_type": "code",
   "execution_count": 49,
   "id": "ecf47529-51ff-4d30-a407-0b9fe1d02707",
   "metadata": {},
   "outputs": [
    {
     "data": {
      "text/plain": [
       "(1.1298450124883495, 1.376201230918873, 200)"
      ]
     },
     "execution_count": 49,
     "metadata": {},
     "output_type": "execute_result"
    }
   ],
   "source": [
    "Y_bis_obs.min(), Y_bis_obs.max(), len(Y_bis_obs)"
   ]
  },
  {
   "cell_type": "code",
   "execution_count": 50,
   "id": "34f76bb2-6252-4e75-80cb-42db7d9ef2fb",
   "metadata": {},
   "outputs": [
    {
     "data": {
      "text/plain": [
       "<matplotlib.legend.Legend at 0x17687a5a490>"
      ]
     },
     "execution_count": 50,
     "metadata": {},
     "output_type": "execute_result"
    },
    {
     "data": {
      "image/png": "[encoded data removed]",
      "text/plain": [
       "<Figure size 640x480 with 1 Axes>"
      ]
     },
     "metadata": {},
     "output_type": "display_data"
    }
   ],
   "source": [
    "plt.hist(Y_bis_obs, density=True)\n",
    "\n",
    "import scipy.stats as stats\n",
    "x = np.linspace(Y_bis_obs.min()-0.5, Y_bis_obs.max()+0.5, 2000)\n",
    "plt.plot(x, stats.norm.pdf(x, np.mean(Y_bis_obs), np.std(Y_bis_obs)), label=\"observation\")\n",
    "plt.plot(x, stats.norm.pdf(x, np.mean(Y_bis), np.std(Y_bis)), label=\"unconstrained\")\n",
    "plt.plot(x, stats.norm.pdf(x, np.mean(constrained_CI_1), np.diff(constrained_CI_1)/2), label=\"constrained\")\n",
    "plt.legend()"
   ]
  },
  {
   "cell_type": "code",
   "execution_count": 51,
   "id": "3a3d8da9-9996-480b-997c-e30f8949f94f",
   "metadata": {},
   "outputs": [
    {
     "data": {
      "text/plain": [
       "1.258913402602645"
      ]
     },
     "execution_count": 51,
     "metadata": {},
     "output_type": "execute_result"
    }
   ],
   "source": [
    "np.mean(Y_bis_obs)"
   ]
  },
  {
   "cell_type": "code",
   "execution_count": null,
   "id": "a782a9c6-adeb-4447-a33a-be359908d60e",
   "metadata": {},
   "outputs": [],
   "source": []
  },
  {
   "cell_type": "code",
   "execution_count": null,
   "id": "a7ac6110-1afc-4604-82b4-ee3a89b9eb15",
   "metadata": {},
   "outputs": [],
   "source": []
  },
  {
   "cell_type": "markdown",
   "id": "687db7c8-fc98-47fa-8677-37b64bc5f648",
   "metadata": {},
   "source": [
    "# Différentes valeurs estimées pour un fold LOO et une obs: est ce que 90% d'entres elles tombent bien dans l'interval ? Comparaison avec d'autres approches ?"
   ]
  },
  {
   "cell_type": "code",
   "execution_count": null,
   "id": "70fa5ba5-0447-4d97-a267-b696b89571a5",
   "metadata": {},
   "outputs": [],
   "source": [
    "from sklearn.model_selection import KFold\n",
    "\n",
    "kf = KFold(n_splits=len(X1))\n",
    "\n",
    "pred_values = []\n",
    "for id_fold, (train_index, test_index) in enumerate(kf.split(X1)):\n",
    "    X_test  = X1[test_index]\n",
    "    X_train = X1[train_index]\n",
    "    Y_test  = Y[test_index]\n",
    "    Y_train = Y[train_index]\n",
    "\n",
    "    pred_values.append()\n",
    "\n",
    "\n",
    "    "
   ]
  },
  {
   "cell_type": "code",
   "execution_count": null,
   "id": "b962d178-7ac6-4c7d-8eba-ca477c9db065",
   "metadata": {},
   "outputs": [],
   "source": []
  },
  {
   "cell_type": "code",
   "execution_count": null,
   "id": "6f26938d-b33a-4f26-b5b5-71cd747fb7c9",
   "metadata": {},
   "outputs": [],
   "source": []
  },
  {
   "cell_type": "code",
   "execution_count": null,
   "id": "f90b96fd-d424-401f-ae45-835b26af4d0b",
   "metadata": {},
   "outputs": [],
   "source": []
  },
  {
   "cell_type": "code",
   "execution_count": null,
   "id": "df88c62f-e035-4778-a0e4-e2a83ed5db74",
   "metadata": {},
   "outputs": [],
   "source": []
  },
  {
   "cell_type": "code",
   "execution_count": null,
   "id": "bf8ca0bf-79cf-4ee0-8f23-b8be65643630",
   "metadata": {},
   "outputs": [],
   "source": []
  },
  {
   "cell_type": "code",
   "execution_count": null,
   "id": "4d5f2716-0f9d-43c3-a3e3-105b8ca3ec1e",
   "metadata": {},
   "outputs": [],
   "source": []
  }
 ],
 "metadata": {
  "kernelspec": {
   "display_name": "Python 3 (ipykernel)",
   "language": "python",
   "name": "python3"
  },
  "language_info": {
   "codemirror_mode": {
    "name": "ipython",
    "version": 3
   },
   "file_extension": ".py",
   "mimetype": "text/x-python",
   "name": "python",
   "nbconvert_exporter": "python",
   "pygments_lexer": "ipython3",
   "version": "3.9.21"
  }
 },
 "nbformat": 4,
 "nbformat_minor": 5
}
