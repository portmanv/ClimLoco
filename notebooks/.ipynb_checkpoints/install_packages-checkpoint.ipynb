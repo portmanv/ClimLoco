{
 "cells": [
  {
   "cell_type": "markdown",
   "id": "da18bddc-3889-4ee8-bb4d-19399518266f",
   "metadata": {},
   "source": [
    "# This notebook specifies the packages and their version to install\n",
    "\n",
    "These are recommandations of the versions to install to avoid conflictual packages."
   ]
  },
  {
   "cell_type": "code",
   "execution_count": 1,
   "id": "3e2c73c6-6d81-4d26-ad1f-a74b6f3503cd",
   "metadata": {},
   "outputs": [
    {
     "name": "stdout",
     "output_type": "stream",
     "text": [
      "Collecting numpy==1.26.4\n",
      "  Using cached numpy-1.26.4-cp39-cp39-win_amd64.whl.metadata (61 kB)\n",
      "Using cached numpy-1.26.4-cp39-cp39-win_amd64.whl (15.8 MB)\n",
      "Installing collected packages: numpy\n",
      "Successfully installed numpy-1.26.4\n"
     ]
    },
    {
     "name": "stderr",
     "output_type": "stream",
     "text": [
      "ERROR: pip's dependency resolver does not currently take into account all the packages that are installed. This behaviour is the source of the following dependency conflicts.\n",
      "factor-analyzer 0.5.0 requires pandas, which is not installed.\n",
      "factor-analyzer 0.5.0 requires scikit-learn, which is not installed.\n",
      "factor-analyzer 0.5.0 requires scipy, which is not installed.\n",
      "group-lasso 1.5.0 requires scikit-learn, which is not installed.\n",
      "jax 0.4.8 requires ml-dtypes>=0.0.3, which is not installed.\n",
      "jax 0.4.8 requires scipy>=1.7, which is not installed.\n",
      "prince 0.7.1 requires matplotlib>=3.0.2, which is not installed.\n",
      "prince 0.7.1 requires pandas>=1.0.3, which is not installed.\n",
      "prince 0.7.1 requires scikit-learn>=0.22.1, which is not installed.\n",
      "prince 0.7.1 requires scipy>=1.3.0, which is not installed.\n",
      "rasterio 1.3.5 requires click>=4.0, which is not installed.\n",
      "rdata 0.9 requires pandas, which is not installed.\n",
      "rdata 0.9 requires xarray, which is not installed.\n",
      "regionmask 0.9.0 requires xarray>=0.15, which is not installed.\n",
      "scikit-learn-extra 0.3.0 requires scikit-learn>=0.23.0, which is not installed.\n",
      "scikit-learn-extra 0.3.0 requires scipy>=0.19.1, which is not installed.\n",
      "sliced 0.7.0 requires scikit-learn>=0.17, which is not installed.\n",
      "sliced 0.7.0 requires scipy>=0.13.3, which is not installed.\n",
      "snuggs 1.4.7 requires pyparsing>=2.1.6, which is not installed.\n",
      "tensorflow-probability 0.19.0 requires cloudpickle>=1.3, which is not installed.\n"
     ]
    }
   ],
   "source": [
    "!pip install numpy==1.26.4"
   ]
  },
  {
   "cell_type": "code",
   "execution_count": 9,
   "id": "cbff4a6d-924b-4182-b39d-96748c9ce391",
   "metadata": {},
   "outputs": [
    {
     "name": "stdout",
     "output_type": "stream",
     "text": [
      "Requirement already satisfied: matplotlib==3.9.4 in c:\\users\\vportmann\\.conda\\envs\\aarcticle1\\lib\\site-packages (3.9.4)\n",
      "Requirement already satisfied: contourpy>=1.0.1 in c:\\users\\vportmann\\.conda\\envs\\aarcticle1\\lib\\site-packages (from matplotlib==3.9.4) (1.3.0)\n",
      "Requirement already satisfied: cycler>=0.10 in c:\\users\\vportmann\\.conda\\envs\\aarcticle1\\lib\\site-packages (from matplotlib==3.9.4) (0.12.1)\n",
      "Requirement already satisfied: fonttools>=4.22.0 in c:\\users\\vportmann\\.conda\\envs\\aarcticle1\\lib\\site-packages (from matplotlib==3.9.4) (4.58.1)\n",
      "Requirement already satisfied: kiwisolver>=1.3.1 in c:\\users\\vportmann\\.conda\\envs\\aarcticle1\\lib\\site-packages (from matplotlib==3.9.4) (1.4.7)\n",
      "Requirement already satisfied: numpy>=1.23 in c:\\users\\vportmann\\.conda\\envs\\aarcticle1\\lib\\site-packages (from matplotlib==3.9.4) (1.26.4)\n",
      "Requirement already satisfied: packaging>=20.0 in c:\\users\\vportmann\\.conda\\envs\\aarcticle1\\lib\\site-packages (from matplotlib==3.9.4) (24.2)\n",
      "Requirement already satisfied: pillow>=8 in c:\\users\\vportmann\\.conda\\envs\\aarcticle1\\lib\\site-packages (from matplotlib==3.9.4) (11.2.1)\n",
      "Requirement already satisfied: pyparsing>=2.3.1 in c:\\users\\vportmann\\.conda\\envs\\aarcticle1\\lib\\site-packages (from matplotlib==3.9.4) (3.2.3)\n",
      "Requirement already satisfied: python-dateutil>=2.7 in c:\\users\\vportmann\\.conda\\envs\\aarcticle1\\lib\\site-packages (from matplotlib==3.9.4) (2.9.0.post0)\n",
      "Requirement already satisfied: importlib-resources>=3.2.0 in c:\\users\\vportmann\\.conda\\envs\\aarcticle1\\lib\\site-packages (from matplotlib==3.9.4) (6.5.2)\n",
      "Requirement already satisfied: zipp>=3.1.0 in c:\\users\\vportmann\\.conda\\envs\\aarcticle1\\lib\\site-packages (from importlib-resources>=3.2.0->matplotlib==3.9.4) (3.21.0)\n",
      "Requirement already satisfied: six>=1.5 in c:\\users\\vportmann\\.conda\\envs\\aarcticle1\\lib\\site-packages (from python-dateutil>=2.7->matplotlib==3.9.4) (1.17.0)\n"
     ]
    }
   ],
   "source": [
    "!pip install matplotlib==3.9.4"
   ]
  },
  {
   "cell_type": "code",
   "execution_count": 3,
   "id": "cda9704a-2c8d-436d-84cb-a3845c075b21",
   "metadata": {},
   "outputs": [
    {
     "name": "stdout",
     "output_type": "stream",
     "text": [
      "Collecting scipy==1.13.1\n",
      "  Using cached scipy-1.13.1-cp39-cp39-win_amd64.whl.metadata (60 kB)\n",
      "Requirement already satisfied: numpy<2.3,>=1.22.4 in c:\\users\\vportmann\\.conda\\envs\\aarcticle1\\lib\\site-packages (from scipy==1.13.1) (1.26.4)\n",
      "Using cached scipy-1.13.1-cp39-cp39-win_amd64.whl (46.2 MB)\n",
      "Installing collected packages: scipy\n",
      "Successfully installed scipy-1.13.1\n"
     ]
    },
    {
     "name": "stderr",
     "output_type": "stream",
     "text": [
      "ERROR: pip's dependency resolver does not currently take into account all the packages that are installed. This behaviour is the source of the following dependency conflicts.\n",
      "factor-analyzer 0.5.0 requires pandas, which is not installed.\n",
      "factor-analyzer 0.5.0 requires scikit-learn, which is not installed.\n",
      "jax 0.4.8 requires ml-dtypes>=0.0.3, which is not installed.\n",
      "prince 0.7.1 requires matplotlib>=3.0.2, which is not installed.\n",
      "prince 0.7.1 requires pandas>=1.0.3, which is not installed.\n",
      "prince 0.7.1 requires scikit-learn>=0.22.1, which is not installed.\n",
      "scikit-learn-extra 0.3.0 requires scikit-learn>=0.23.0, which is not installed.\n",
      "sliced 0.7.0 requires scikit-learn>=0.17, which is not installed.\n"
     ]
    }
   ],
   "source": [
    "!pip install scipy==1.13.1"
   ]
  },
  {
   "cell_type": "code",
   "execution_count": 3,
   "id": "44e7f006-eb04-4171-bcfa-690183eee895",
   "metadata": {},
   "outputs": [
    {
     "name": "stdout",
     "output_type": "stream",
     "text": [
      "Requirement already satisfied: xarray==2024.7.0 in c:\\users\\vportmann\\.conda\\envs\\aarcticle1\\lib\\site-packages (2024.7.0)\n",
      "Requirement already satisfied: numpy>=1.23 in c:\\users\\vportmann\\.conda\\envs\\aarcticle1\\lib\\site-packages (from xarray==2024.7.0) (1.26.4)\n",
      "Requirement already satisfied: packaging>=23.1 in c:\\users\\vportmann\\.conda\\envs\\aarcticle1\\lib\\site-packages (from xarray==2024.7.0) (24.2)\n",
      "Requirement already satisfied: pandas>=2.0 in c:\\users\\vportmann\\.conda\\envs\\aarcticle1\\lib\\site-packages (from xarray==2024.7.0) (2.2.3)\n",
      "Requirement already satisfied: python-dateutil>=2.8.2 in c:\\users\\vportmann\\.conda\\envs\\aarcticle1\\lib\\site-packages (from pandas>=2.0->xarray==2024.7.0) (2.9.0.post0)\n",
      "Requirement already satisfied: pytz>=2020.1 in c:\\users\\vportmann\\.conda\\envs\\aarcticle1\\lib\\site-packages (from pandas>=2.0->xarray==2024.7.0) (2025.2)\n",
      "Requirement already satisfied: tzdata>=2022.7 in c:\\users\\vportmann\\appdata\\roaming\\python\\python39\\site-packages (from pandas>=2.0->xarray==2024.7.0) (2023.3)\n",
      "Requirement already satisfied: six>=1.5 in c:\\users\\vportmann\\.conda\\envs\\aarcticle1\\lib\\site-packages (from python-dateutil>=2.8.2->pandas>=2.0->xarray==2024.7.0) (1.17.0)\n"
     ]
    }
   ],
   "source": [
    "!pip install xarray==2024.7.0"
   ]
  },
  {
   "cell_type": "code",
   "execution_count": 5,
   "id": "e922283c-8555-48d1-9316-6e2997f9469d",
   "metadata": {},
   "outputs": [
    {
     "name": "stdout",
     "output_type": "stream",
     "text": [
      "Requirement already satisfied: netcdf4==1.7.2 in c:\\users\\vportmann\\.conda\\envs\\aarcticle1\\lib\\site-packages (1.7.2)\n",
      "Requirement already satisfied: cftime in c:\\users\\vportmann\\.conda\\envs\\aarcticle1\\lib\\site-packages (from netcdf4==1.7.2) (1.6.4.post1)\n",
      "Requirement already satisfied: certifi in c:\\users\\vportmann\\.conda\\envs\\aarcticle1\\lib\\site-packages (from netcdf4==1.7.2) (2025.4.26)\n",
      "Requirement already satisfied: numpy in c:\\users\\vportmann\\.conda\\envs\\aarcticle1\\lib\\site-packages (from netcdf4==1.7.2) (1.26.4)\n"
     ]
    }
   ],
   "source": [
    "!pip install netcdf4==1.7.2"
   ]
  },
  {
   "cell_type": "code",
   "execution_count": 2,
   "id": "10b4f153-6c7b-45c1-bc85-43cb7a84630a",
   "metadata": {},
   "outputs": [
    {
     "name": "stdout",
     "output_type": "stream",
     "text": [
      "Requirement already satisfied: scikit-learn==1.6.1 in c:\\users\\vportmann\\.conda\\envs\\aarcticle1\\lib\\site-packages (1.6.1)\n",
      "Requirement already satisfied: numpy>=1.19.5 in c:\\users\\vportmann\\.conda\\envs\\aarcticle1\\lib\\site-packages (from scikit-learn==1.6.1) (1.26.4)\n",
      "Requirement already satisfied: scipy>=1.6.0 in c:\\users\\vportmann\\.conda\\envs\\aarcticle1\\lib\\site-packages (from scikit-learn==1.6.1) (1.13.1)\n",
      "Requirement already satisfied: joblib>=1.2.0 in c:\\users\\vportmann\\.conda\\envs\\aarcticle1\\lib\\site-packages (from scikit-learn==1.6.1) (1.5.1)\n",
      "Requirement already satisfied: threadpoolctl>=3.1.0 in c:\\users\\vportmann\\.conda\\envs\\aarcticle1\\lib\\site-packages (from scikit-learn==1.6.1) (3.6.0)\n"
     ]
    }
   ],
   "source": [
    "!pip install scikit-learn==1.6.1"
   ]
  }
 ],
 "metadata": {
  "kernelspec": {
   "display_name": "Python 3 (ipykernel)",
   "language": "python",
   "name": "python3"
  },
  "language_info": {
   "codemirror_mode": {
    "name": "ipython",
    "version": 3
   },
   "file_extension": ".py",
   "mimetype": "text/x-python",
   "name": "python",
   "nbconvert_exporter": "python",
   "pygments_lexer": "ipython3",
   "version": "3.9.21"
  }
 },
 "nbformat": 4,
 "nbformat_minor": 5
}
