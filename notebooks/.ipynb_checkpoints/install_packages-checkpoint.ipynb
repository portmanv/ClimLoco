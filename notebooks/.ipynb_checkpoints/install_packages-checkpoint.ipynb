{
 "cells": [
  {
   "cell_type": "markdown",
   "id": "da18bddc-3889-4ee8-bb4d-19399518266f",
   "metadata": {},
   "source": [
    "# Description\n",
    "This notebook specifies the packages and their version to install.\n",
    "\n",
    "These are recommandations of the versions to install to avoid conflictual packages."
   ]
  },
  {
   "cell_type": "code",
   "execution_count": null,
   "id": "227229cc-9957-4688-88f4-09fdf9e0d234",
   "metadata": {},
   "outputs": [],
   "source": [
    "!pip install numpy==1.26.4"
   ]
  },
  {
   "cell_type": "code",
   "execution_count": null,
   "id": "95bf71b3-a672-4ef9-84d7-db094b0e9a5a",
   "metadata": {},
   "outputs": [],
   "source": [
    "!pip install matplotlib==3.9.4"
   ]
  },
  {
   "cell_type": "code",
   "execution_count": null,
   "id": "90a3dcd8-6d29-43e8-9f8c-89d531c29104",
   "metadata": {},
   "outputs": [],
   "source": [
    "!pip install scipy==1.13.1"
   ]
  },
  {
   "cell_type": "code",
   "execution_count": null,
   "id": "8402b086-41a1-4531-ba24-1be79d78816e",
   "metadata": {},
   "outputs": [],
   "source": [
    "!pip install xarray==2024.7.0"
   ]
  },
  {
   "cell_type": "code",
   "execution_count": null,
   "id": "e8e45bd4-97c3-44fc-964c-671433c3d801",
   "metadata": {},
   "outputs": [],
   "source": [
    "!pip install netcdf4==1.7.2"
   ]
  },
  {
   "cell_type": "code",
   "execution_count": null,
   "id": "e31bbcb9-263d-44bc-ad55-34c6391e6d7a",
   "metadata": {},
   "outputs": [],
   "source": [
    "!pip install scikit-learn==1.6.1"
   ]
  }
 ],
 "metadata": {
  "kernelspec": {
   "display_name": "Python 3 (ipykernel)",
   "language": "python",
   "name": "python3"
  },
  "language_info": {
   "codemirror_mode": {
    "name": "ipython",
    "version": 3
   },
   "file_extension": ".py",
   "mimetype": "text/x-python",
   "name": "python",
   "nbconvert_exporter": "python",
   "pygments_lexer": "ipython3",
   "version": "3.9.21"
  }
 },
 "nbformat": 4,
 "nbformat_minor": 5
}
