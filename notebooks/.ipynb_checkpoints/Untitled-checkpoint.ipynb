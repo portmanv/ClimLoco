{
 "cells": [
  {
   "cell_type": "markdown",
   "id": "fd4db88c-7aa6-4f55-8afa-d1d7193fa927",
   "metadata": {},
   "source": [
    "# Description\n"
   ]
  },
  {
   "cell_type": "code",
   "execution_count": null,
   "id": "2af0cc19-2dfe-407d-a9b1-81f1fe868974",
   "metadata": {},
   "outputs": [],
   "source": []
  },
  {
   "cell_type": "markdown",
   "id": "2d918de9-7681-41c1-a531-05d917995226",
   "metadata": {},
   "source": [
    "# Packages"
   ]
  },
  {
   "cell_type": "code",
   "execution_count": null,
   "id": "8a5fd525-f655-4ed5-81c0-e42f00544119",
   "metadata": {},
   "outputs": [],
   "source": [
    "import numpy as np\n",
    "from xarray import open_dataset\n",
    "import matplotlib.pyplot as plt"
   ]
  },
  {
   "cell_type": "code",
   "execution_count": null,
   "id": "5082a379-aa9f-41ed-8527-db87ab44f679",
   "metadata": {},
   "outputs": [],
   "source": []
  },
  {
   "cell_type": "markdown",
   "id": "7e6b5797-4d80-4952-9657-f4b9ec00ba21",
   "metadata": {},
   "source": [
    "# Data importation\n",
    "## Values from simulations (CMIP6 climate models)"
   ]
  },
  {
   "cell_type": "code",
   "execution_count": null,
   "id": "3958a647-f8a1-4521-955a-c67d8167a0ab",
   "metadata": {},
   "outputs": [],
   "source": [
    "metric_mask        = np.load(\"../../data_CMIP6/ssp245_timeserie_tas/mask.npy\")\n",
    "metric_name_models = np.load(\"../../data_CMIP6/ssp245_timeserie_tas/name_models.npy\")\n",
    "metric_times       = np.load(\"../../data_CMIP6/ssp245_timeserie_tas/times.npy\")\n",
    "\n",
    "nb_models = len(metric_name_models)\n",
    "nb_years  = len(metric_times)\n",
    "nb_cells  = np.sum(metric_mask)\n",
    "\n",
    "data = np.memmap(\"../../data_CMIP6/ssp245_timeserie_tas/data.dat\", dtype='float64', mode='r+',\n",
    "                              shape=(nb_models, nb_years, nb_cells))\n",
    "\n"
   ]
  },
  {
   "cell_type": "markdown",
   "id": "dbb0b2cd-6330-427d-9822-4bea36e61cdf",
   "metadata": {},
   "source": [
    "## Values from observations (HadCRUT5)\n",
    "HadCRUT5 analysis time series: ensemble members, global, annual, NetCDF\n",
    "(*https://www.metoffice.gov.uk/hadobs/hadcrut5/data/HadCRUT.5.0.2.0/download.html*)"
   ]
  },
  {
   "cell_type": "code",
   "execution_count": null,
   "id": "75573e5d-47d7-4d36-8404-1307c982c4fd",
   "metadata": {},
   "outputs": [],
   "source": [
    "path = \"../data/HadCRUT.5.0.2.0.analysis.ensemble_series.global.annual.nc\"\n",
    "da_input = open_dataset(path)"
   ]
  },
  {
   "cell_type": "code",
   "execution_count": null,
   "id": "677b444f-3297-4e24-a89b-1913aaf3ff26",
   "metadata": {},
   "outputs": [],
   "source": []
  },
  {
   "cell_type": "code",
   "execution_count": null,
   "id": "e1ece536-e82f-45e2-8603-f4445fe61019",
   "metadata": {},
   "outputs": [],
   "source": []
  },
  {
   "cell_type": "code",
   "execution_count": null,
   "id": "7fe150ab-0098-425a-a1f4-7027d61d4ae1",
   "metadata": {},
   "outputs": [],
   "source": []
  },
  {
   "cell_type": "code",
   "execution_count": null,
   "id": "bf8ca0bf-79cf-4ee0-8f23-b8be65643630",
   "metadata": {},
   "outputs": [],
   "source": []
  }
 ],
 "metadata": {
  "kernelspec": {
   "display_name": "Python 3 (ipykernel)",
   "language": "python",
   "name": "python3"
  },
  "language_info": {
   "codemirror_mode": {
    "name": "ipython",
    "version": 3
   },
   "file_extension": ".py",
   "mimetype": "text/x-python",
   "name": "python",
   "nbconvert_exporter": "python",
   "pygments_lexer": "ipython3",
   "version": "3.9.21"
  }
 },
 "nbformat": 4,
 "nbformat_minor": 5
}
